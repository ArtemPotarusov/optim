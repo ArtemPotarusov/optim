{
  "nbformat": 4,
  "nbformat_minor": 0,
  "metadata": {
    "accelerator": "GPU",
    "colab": {
      "provenance": [],
      "toc_visible": true,
      "include_colab_link": true
    },
    "kernelspec": {
      "display_name": "Python 3",
      "name": "python3"
    },
    "language_info": {
      "name": "python"
    }
  },
  "cells": [
    {
      "cell_type": "markdown",
      "metadata": {
        "id": "view-in-github",
        "colab_type": "text"
      },
      "source": [
        "<a href=\"https://colab.research.google.com/github/MerkulovDaniil/optim/blob/master/assets/Notebooks/Simple_annotated_MNIST_exercise_ru.ipynb\" target=\"_parent\"><img src=\"https://colab.research.google.com/assets/colab-badge.svg\" alt=\"Open In Colab\"/></a>"
      ]
    },
    {
      "cell_type": "code",
      "metadata": {
        "id": "EN9JMXMDC2hR"
      },
      "source": [
        "# Установка нужных библиотек для питона. Запустите ячейку, нажав Shift + Enter.\n",
        "# Для того, чтобы пройти практику в режиме слушателя (не выполняя упражнений и\n",
        "# ничего не модифицируя) достаточно просто выполнять ячейки друг за другом,\n",
        "# нажимая Shift + Enter\n",
        "!pip install numpy --quiet\n",
        "!pip install tensorflow --quiet\n",
        "!pip install pandas --quiet\n",
        "!pip install keras --quiet"
      ],
      "execution_count": 2,
      "outputs": []
    },
    {
      "cell_type": "markdown",
      "metadata": {
        "id": "kTCbKQQvEhb8"
      },
      "source": [
        "# 🔢 Нейросеть для распознавания рукописных цифр с нуля!\n",
        "\n",
        "![](https://upload.wikimedia.org/wikipedia/commons/2/27/MnistExamples.png)"
      ]
    },
    {
      "cell_type": "markdown",
      "metadata": {
        "id": "7ofxvJirWvlp"
      },
      "source": [
        "Нам нужно распознать рукописные цифры по их изображениям. Так как цифр 10, то в нашей задаче классификации 10 классов.\n",
        "\n",
        "Наш набор данных MNIST часто используется для демонстрации возможностей различных алгоритмов машинного и глубинного обучения, так как для него достаточно просто добиться хорошей точности работы."
      ]
    },
    {
      "cell_type": "markdown",
      "metadata": {
        "id": "Tl72AZCwdwn4"
      },
      "source": [
        "## ✍️ Процесс анализа данных:\n",
        "1. Загрузим данные для обучения и тестирования\n",
        "2. Предобработаем данные\n",
        "3. Создадим модель для обучения\n",
        "4. Обучим модель\n",
        "5. Протестируем модель\n",
        "6. Попробуем улучшить модель"
      ]
    },
    {
      "cell_type": "markdown",
      "metadata": {
        "id": "T6aUApHy4OzK"
      },
      "source": [
        "Загрузим необходимые библиотеки: `keras` для работы с нейросетями, `numpy` для научных вычислений, `matplotlib` для построения графиков.\n",
        "\n",
        "* Наша нейронная сеть будет делать ряд последовательных преобразований данных, поэтому нам нужен тип нейронных сетей Sequential\n",
        "* Типы преобразваний, с которыми мы будем работать: полносвязный слой Dense, активация Activation, преобразование матрицы в длинный вектор Flatten.\n",
        "\n",
        "Еще мы будем использовать данные MNIST - они могут быть загружены из открытых источников с помощью keras.\n",
        "\n",
        "Выполните ячейку ниже:"
      ]
    },
    {
      "cell_type": "code",
      "metadata": {
        "id": "9G11oTPyL1XP"
      },
      "source": [
        "from tensorflow import keras\n",
        "from keras.models import Sequential\n",
        "from keras.layers import Dense, Activation, Flatten\n",
        "import keras.datasets\n",
        "\n",
        "import numpy as np\n",
        "from matplotlib import pyplot as plt"
      ],
      "execution_count": 3,
      "outputs": []
    },
    {
      "cell_type": "markdown",
      "metadata": {
        "id": "AIpnql06YNc7"
      },
      "source": [
        "## 📦 1. Загрузка данных\n",
        "\n",
        "В keras уже есть несколько популярных датасетов, которые можно легко загрузить. Давайте загрузим набор данных MNIST."
      ]
    },
    {
      "cell_type": "code",
      "metadata": {
        "id": "MRc87g0JL1XR",
        "outputId": "ce544a25-9f8d-4acd-9db7-d267d5bf4ec5",
        "colab": {
          "base_uri": "https://localhost:8080/"
        }
      },
      "source": [
        "(X_train, y_train), (X_test, y_test) = keras.datasets.mnist.load_data()"
      ],
      "execution_count": 4,
      "outputs": [
        {
          "output_type": "stream",
          "name": "stdout",
          "text": [
            "Downloading data from https://storage.googleapis.com/tensorflow/tf-keras-datasets/mnist.npz\n",
            "\u001b[1m11490434/11490434\u001b[0m \u001b[32m━━━━━━━━━━━━━━━━━━━━\u001b[0m\u001b[37m\u001b[0m \u001b[1m1s\u001b[0m 0us/step\n"
          ]
        }
      ]
    },
    {
      "cell_type": "code",
      "metadata": {
        "colab": {
          "base_uri": "https://localhost:8080/"
        },
        "id": "6tm4H_PLgcld",
        "outputId": "a20b32d2-f3b1-4035-824f-4996b78c0a30"
      },
      "source": [
        "print(f\"🤖 Всего {X_train.shape[0]} изображений в обучающей выборке и {X_test.shape[0]} в тестовой.\")\n",
        "print(f\"🤖 Вот так выглядит первый элемент нашей обучающей выборки. Это матрица размера {X_train[0].shape}\")\n",
        "print(X_train[0])"
      ],
      "execution_count": 5,
      "outputs": [
        {
          "output_type": "stream",
          "name": "stdout",
          "text": [
            "🤖 Всего 60000 изображений в обучающей выборке и 10000 в тестовой.\n",
            "🤖 Вот так выглядит первый элемент нашей обучающей выборки. Это матрица размера (28, 28)\n",
            "[[  0   0   0   0   0   0   0   0   0   0   0   0   0   0   0   0   0   0\n",
            "    0   0   0   0   0   0   0   0   0   0]\n",
            " [  0   0   0   0   0   0   0   0   0   0   0   0   0   0   0   0   0   0\n",
            "    0   0   0   0   0   0   0   0   0   0]\n",
            " [  0   0   0   0   0   0   0   0   0   0   0   0   0   0   0   0   0   0\n",
            "    0   0   0   0   0   0   0   0   0   0]\n",
            " [  0   0   0   0   0   0   0   0   0   0   0   0   0   0   0   0   0   0\n",
            "    0   0   0   0   0   0   0   0   0   0]\n",
            " [  0   0   0   0   0   0   0   0   0   0   0   0   0   0   0   0   0   0\n",
            "    0   0   0   0   0   0   0   0   0   0]\n",
            " [  0   0   0   0   0   0   0   0   0   0   0   0   3  18  18  18 126 136\n",
            "  175  26 166 255 247 127   0   0   0   0]\n",
            " [  0   0   0   0   0   0   0   0  30  36  94 154 170 253 253 253 253 253\n",
            "  225 172 253 242 195  64   0   0   0   0]\n",
            " [  0   0   0   0   0   0   0  49 238 253 253 253 253 253 253 253 253 251\n",
            "   93  82  82  56  39   0   0   0   0   0]\n",
            " [  0   0   0   0   0   0   0  18 219 253 253 253 253 253 198 182 247 241\n",
            "    0   0   0   0   0   0   0   0   0   0]\n",
            " [  0   0   0   0   0   0   0   0  80 156 107 253 253 205  11   0  43 154\n",
            "    0   0   0   0   0   0   0   0   0   0]\n",
            " [  0   0   0   0   0   0   0   0   0  14   1 154 253  90   0   0   0   0\n",
            "    0   0   0   0   0   0   0   0   0   0]\n",
            " [  0   0   0   0   0   0   0   0   0   0   0 139 253 190   2   0   0   0\n",
            "    0   0   0   0   0   0   0   0   0   0]\n",
            " [  0   0   0   0   0   0   0   0   0   0   0  11 190 253  70   0   0   0\n",
            "    0   0   0   0   0   0   0   0   0   0]\n",
            " [  0   0   0   0   0   0   0   0   0   0   0   0  35 241 225 160 108   1\n",
            "    0   0   0   0   0   0   0   0   0   0]\n",
            " [  0   0   0   0   0   0   0   0   0   0   0   0   0  81 240 253 253 119\n",
            "   25   0   0   0   0   0   0   0   0   0]\n",
            " [  0   0   0   0   0   0   0   0   0   0   0   0   0   0  45 186 253 253\n",
            "  150  27   0   0   0   0   0   0   0   0]\n",
            " [  0   0   0   0   0   0   0   0   0   0   0   0   0   0   0  16  93 252\n",
            "  253 187   0   0   0   0   0   0   0   0]\n",
            " [  0   0   0   0   0   0   0   0   0   0   0   0   0   0   0   0   0 249\n",
            "  253 249  64   0   0   0   0   0   0   0]\n",
            " [  0   0   0   0   0   0   0   0   0   0   0   0   0   0  46 130 183 253\n",
            "  253 207   2   0   0   0   0   0   0   0]\n",
            " [  0   0   0   0   0   0   0   0   0   0   0   0  39 148 229 253 253 253\n",
            "  250 182   0   0   0   0   0   0   0   0]\n",
            " [  0   0   0   0   0   0   0   0   0   0  24 114 221 253 253 253 253 201\n",
            "   78   0   0   0   0   0   0   0   0   0]\n",
            " [  0   0   0   0   0   0   0   0  23  66 213 253 253 253 253 198  81   2\n",
            "    0   0   0   0   0   0   0   0   0   0]\n",
            " [  0   0   0   0   0   0  18 171 219 253 253 253 253 195  80   9   0   0\n",
            "    0   0   0   0   0   0   0   0   0   0]\n",
            " [  0   0   0   0  55 172 226 253 253 253 253 244 133  11   0   0   0   0\n",
            "    0   0   0   0   0   0   0   0   0   0]\n",
            " [  0   0   0   0 136 253 253 253 212 135 132  16   0   0   0   0   0   0\n",
            "    0   0   0   0   0   0   0   0   0   0]\n",
            " [  0   0   0   0   0   0   0   0   0   0   0   0   0   0   0   0   0   0\n",
            "    0   0   0   0   0   0   0   0   0   0]\n",
            " [  0   0   0   0   0   0   0   0   0   0   0   0   0   0   0   0   0   0\n",
            "    0   0   0   0   0   0   0   0   0   0]\n",
            " [  0   0   0   0   0   0   0   0   0   0   0   0   0   0   0   0   0   0\n",
            "    0   0   0   0   0   0   0   0   0   0]]\n"
          ]
        }
      ]
    },
    {
      "cell_type": "markdown",
      "metadata": {
        "id": "TNB3heFHYWfC"
      },
      "source": [
        "## 🎁 2. Подготовка данных\n",
        "**Нормализация значений на [0,1] и перевод целевой переменной в one-hot формат**\n",
        "\n",
        "Нормализация данных часто способствует более стабильному обучению ML моделей. Здесь мы сделаем так, чтобы значения всех входных признаков лежали в интервале от 0 до 1. Это делаем делением на 255 (потому что, как видно выше, сейчас это целые числа от 0 до 255).\n",
        "\n",
        "Еще нейронной сети нужно значение выходной переменной в one-hot формате.\n",
        "Это делаем функцией из keras keras.utils.to_categorical, которая принимает на вход исходный вектор значений выходной переменной и число классов."
      ]
    },
    {
      "cell_type": "code",
      "metadata": {
        "id": "hbw-RAM2Y6tT"
      },
      "source": [
        "X_train = X_train / 255\n",
        "X_test = X_test / 255\n",
        "\n",
        "y_train = keras.utils.to_categorical(y_train, 10)\n",
        "y_test = keras.utils.to_categorical(y_test, 10)"
      ],
      "execution_count": 6,
      "outputs": []
    },
    {
      "cell_type": "code",
      "metadata": {
        "colab": {
          "base_uri": "https://localhost:8080/",
          "height": 1000
        },
        "id": "fW8rMYS6OASh",
        "outputId": "edd6734f-6c19-490a-cd38-2028aabb3137"
      },
      "source": [
        "# Helper functions for images.\n",
        "\n",
        "def show_img(img, ax=None, title=None):\n",
        "    \"\"\"Shows a single image.\"\"\"\n",
        "    if ax is None:\n",
        "        ax = plt.gca()\n",
        "    ax.imshow(img, cmap='gray')\n",
        "    ax.set_xticks([])\n",
        "    ax.set_yticks([])\n",
        "    if title:\n",
        "        ax.set_title(title)\n",
        "\n",
        "def show_img_grid(imgs, titles):\n",
        "    \"\"\"Shows a grid of images.\"\"\"\n",
        "    n = int(np.ceil(len(imgs)**.5))\n",
        "    _, axs = plt.subplots(n, n, figsize=(3 * n, 3 * n))\n",
        "    for i, (img, title) in enumerate(zip(imgs, titles)):\n",
        "        show_img(img, axs[i // n][i % n], title)\n",
        "\n",
        "def show_examples(data, label, predicted = None):\n",
        "    idxs = np.random.randint(0, len(data), 25)\n",
        "    if np.array(label).max() <= 1:\n",
        "        label = np.argmax(label, axis=-1)\n",
        "\n",
        "    if predicted is not None:\n",
        "        if np.array(predicted).max() <= 1:\n",
        "            predicted = np.argmax(predicted, axis=-1)\n",
        "    show_img_grid(\n",
        "    [data[idx] for idx in idxs],\n",
        "    [f'Метка: {label[idx]}' if predicted is None else f'Метка: {label[idx]}. Предсказание: {predicted[idx]}' for idx in idxs],\n",
        "    )\n",
        "\n",
        "show_examples(X_test, y_test)"
      ],
      "execution_count": 7,
      "outputs": [
        {
          "output_type": "display_data",
          "data": {
            "text/plain": [
              "<Figure size 1500x1500 with 25 Axes>"
            ],
            "image/png": "[encoded data removed]"
          },
          "metadata": {}
        }
      ]
    },
    {
      "cell_type": "markdown",
      "metadata": {
        "id": "S2986SBBZJIs"
      },
      "source": [
        "Посмотрим на то, в каком виде у нас хранятся входные признаки, напечатав размер первого объекта из обучающей выборки.\n",
        "\n",
        "Для данных MNIST это изображения 28 на 28."
      ]
    },
    {
      "cell_type": "code",
      "metadata": {
        "colab": {
          "base_uri": "https://localhost:8080/"
        },
        "id": "VGjF5U_eL1XU",
        "outputId": "e00a32ab-a259-4496-d3a5-e84849038298"
      },
      "source": [
        "input_size = X_train[0].shape\n",
        "print(f\"🤖 Размер изображения {input_size} пикселей\")\n",
        "print(f\"🤖 Значения всех пикселей лежат в диапазоне от {X_train.min()} до {X_train.max()}\")\n",
        "print(f\"🤖 Метка класса первой картинки в исходном формате {np.argmax(y_train[0])}\")\n",
        "print(f\"🤖 Метка класса первой картинки в one-hot формате {y_train[0]}\")"
      ],
      "execution_count": 8,
      "outputs": [
        {
          "output_type": "stream",
          "name": "stdout",
          "text": [
            "🤖 Размер изображения (28, 28) пикселей\n",
            "🤖 Значения всех пикселей лежат в диапазоне от 0.0 до 1.0\n",
            "🤖 Метка класса первой картинки в исходном формате 5\n",
            "🤖 Метка класса первой картинки в one-hot формате [0. 0. 0. 0. 0. 1. 0. 0. 0. 0.]\n"
          ]
        }
      ]
    },
    {
      "cell_type": "markdown",
      "metadata": {
        "id": "MMKOCnmMZgk_"
      },
      "source": [
        "## 💃 3. Создание модели для обучения\n",
        "\n",
        "Sequential здесь означает последовательный тип модели, в который мы добавляем слои друг за другом.\n",
        "\n",
        "**Добавляем в модель слой за слоем.**\n",
        "\n",
        "* Сначала вытягиваем картинку в длинный вектор слоем Flatten\n",
        "* Потом идет полносвязный слой - нейроны в следующем слое зависят от всех переменных в предыдущем\n",
        "* Далее применяем нелинейное преобразование ReLU\n",
        "* Потом идет следующий полносвязный слой. В нем 10 выходов - по числу классов.\n",
        "* В конце используем функцию активации softmax (она превращает любой вектор из 10 чисел в вектор вероятностей, т.е. все компоненты неотрицательные, а их сумма равна 1)\n"
      ]
    },
    {
      "cell_type": "code",
      "metadata": {
        "id": "7L_idgx4aTSQ"
      },
      "source": [
        "model = Sequential()\n",
        "\n",
        "model.add(Flatten())\n",
        "model.add(Dense(units=16))\n",
        "model.add(Activation('relu'))\n",
        "model.add(Dense(units=10))\n",
        "model.add(Activation('softmax'))"
      ],
      "execution_count": 9,
      "outputs": []
    },
    {
      "cell_type": "markdown",
      "metadata": {
        "id": "dXa68zvcabbz"
      },
      "source": [
        "После описания архитектуры необходимо скомпилировать модель, указав минимизируемую функцию потерь,\n",
        "оптимизатор и попросив модель выводить точность работы на тестовой выорке в процессе обучения"
      ]
    },
    {
      "cell_type": "code",
      "metadata": {
        "id": "m07_4onHL1XZ"
      },
      "source": [
        "model.compile(loss='categorical_crossentropy',\n",
        "              optimizer='adam',\n",
        "              metrics=['accuracy'])"
      ],
      "execution_count": 10,
      "outputs": []
    },
    {
      "cell_type": "markdown",
      "metadata": {
        "id": "C_hq5K6Oahnr"
      },
      "source": [
        "## 👨‍🏫 4. Обучение модели\n",
        "**Тренировка с указанием данных, числа эпох и размера подвыборки**\n",
        "\n",
        "Теперь задана структура модели и то, как мы будем ее обучать.\n",
        "Делаем это аналогично sklearn - с помощью метода fit.\n",
        "\n",
        "После запуска fit мы оптимизируем параметры стохастическим градиентным спуском (SGD).\n",
        "На каждом шаге стохастического градиентного спуска мы используем функцию потерь, которая подсчитана только по части полной выборки.\n",
        "\n",
        "Два дополнительных параметра для обучения:\n",
        "* batch_size - размер подвыборки, которая используется для одного шага оптимизации\n",
        "* epochs - число эпох - сколько раз мы проходим полностью по всей выборке\n",
        "\n",
        "\n"
      ]
    },
    {
      "cell_type": "code",
      "metadata": {
        "colab": {
          "base_uri": "https://localhost:8080/"
        },
        "id": "1yJBEO5MawBa",
        "outputId": "6559ea7e-4893-40a8-be44-70bdf82d5608"
      },
      "source": [
        "model.fit(X_train, y_train, epochs=5, batch_size=128)"
      ],
      "execution_count": 11,
      "outputs": [
        {
          "output_type": "stream",
          "name": "stdout",
          "text": [
            "Epoch 1/5\n",
            "\u001b[1m469/469\u001b[0m \u001b[32m━━━━━━━━━━━━━━━━━━━━\u001b[0m\u001b[37m\u001b[0m \u001b[1m5s\u001b[0m 3ms/step - accuracy: 0.6685 - loss: 1.0760\n",
            "Epoch 2/5\n",
            "\u001b[1m469/469\u001b[0m \u001b[32m━━━━━━━━━━━━━━━━━━━━\u001b[0m\u001b[37m\u001b[0m \u001b[1m3s\u001b[0m 2ms/step - accuracy: 0.9143 - loss: 0.3053\n",
            "Epoch 3/5\n",
            "\u001b[1m469/469\u001b[0m \u001b[32m━━━━━━━━━━━━━━━━━━━━\u001b[0m\u001b[37m\u001b[0m \u001b[1m1s\u001b[0m 2ms/step - accuracy: 0.9283 - loss: 0.2492\n",
            "Epoch 4/5\n",
            "\u001b[1m469/469\u001b[0m \u001b[32m━━━━━━━━━━━━━━━━━━━━\u001b[0m\u001b[37m\u001b[0m \u001b[1m1s\u001b[0m 2ms/step - accuracy: 0.9360 - loss: 0.2256\n",
            "Epoch 5/5\n",
            "\u001b[1m469/469\u001b[0m \u001b[32m━━━━━━━━━━━━━━━━━━━━\u001b[0m\u001b[37m\u001b[0m \u001b[1m1s\u001b[0m 2ms/step - accuracy: 0.9416 - loss: 0.2075\n"
          ]
        },
        {
          "output_type": "execute_result",
          "data": {
            "text/plain": [
              "<keras.src.callbacks.history.History at 0x7b6f0140b070>"
            ]
          },
          "metadata": {},
          "execution_count": 11
        }
      ]
    },
    {
      "cell_type": "markdown",
      "metadata": {
        "id": "WCthVeR-dUHe"
      },
      "source": [
        "Можно посмотреть, какие карточки мы использовали для обучения модели."
      ]
    },
    {
      "cell_type": "code",
      "metadata": {
        "colab": {
          "base_uri": "https://localhost:8080/"
        },
        "id": "jhqGc2gFMkWV",
        "outputId": "810600b1-fb7f-4c4a-85df-36825bbd0860"
      },
      "source": [
        "import subprocess\n",
        "import cpuinfo\n",
        "import tensorflow as tf\n",
        "\n",
        "# Check CPU information\n",
        "cpu_info = tf.config.list_physical_devices('CPU')\n",
        "print(\"🤖 CPU Information:\")\n",
        "\n",
        "# Get CPU model name\n",
        "cpu_model = cpuinfo.get_cpu_info()['brand_raw']\n",
        "print(f\"🤖 CPU Model: {cpu_model}\")\n",
        "\n",
        "# Check RAM information\n",
        "ram_info = subprocess.check_output(\"free -m\", shell=True).decode().split(\"\\n\")[1].split()\n",
        "if len(ram_info) >= 7:\n",
        "    ram_total = int(ram_info[1])\n",
        "    ram_used = int(ram_info[2])\n",
        "    ram_available = int(ram_info[6])\n",
        "    print(\"\\n🤖 RAM Information:\")\n",
        "    print(f\"🤖 RAM Total: {ram_total} MiB\")\n",
        "    print(f\"🤖 RAM Used: {ram_used} MiB\")\n",
        "    print(f\"🤖 RAM Available: {ram_available} MiB\")\n",
        "else:\n",
        "    print(\"🤖 Unable to retrieve RAM information\")\n",
        "\n",
        "# Check GPU information\n",
        "gpu_info = tf.config.list_physical_devices('GPU')\n",
        "if gpu_info:\n",
        "    print(\"\\n🤖 GPU Information:\")\n",
        "    for i, gpu in enumerate(gpu_info):\n",
        "        print(f\"🤖 GPU {i+1}:\")\n",
        "        device_name = tf.test.gpu_device_name()\n",
        "        if device_name != \"\":\n",
        "            gpu_name = subprocess.check_output([\"nvidia-smi\", \"--query-gpu=name\", \"--format=csv,noheader\"], universal_newlines=True)\n",
        "            print(f\"🤖 GPU Model: {gpu_name.strip()}\")\n",
        "        else:\n",
        "            print(\"🤖 GPU Model: Unknown\")\n",
        "else:\n",
        "    print(\"\\n🤖 GPU not available\")\n",
        "\n",
        "# Check memory usage\n",
        "print(\"\\n🤖 Memory Information:\")\n",
        "if gpu_info:\n",
        "    total_gpu_memory = 0\n",
        "    for i, gpu in enumerate(gpu_info):\n",
        "        try:\n",
        "            cmd = f\"nvidia-smi --query-gpu=memory.total,memory.used --format=csv,nounits,noheader\"\n",
        "            result = subprocess.check_output(cmd.split(), universal_newlines=True)\n",
        "            gpu_memory = [int(x) for x in result.strip().split(',')]\n",
        "            total_gpu_memory += gpu_memory[0]\n",
        "            print(f\"🤖 GPU {i+1} Memory Used: {gpu_memory[1]} MiB\")\n",
        "        except subprocess.CalledProcessError as e:\n",
        "            print(f\"🤖 Error retrieving memory information for GPU {i+1}: {e}\")\n",
        "    print(f\"🤖 Total GPU Memory Available: {total_gpu_memory} MiB\")\n",
        "else:\n",
        "    print(\"🤖 CPU Memory: Not applicable\")\n"
      ],
      "execution_count": 12,
      "outputs": [
        {
          "output_type": "stream",
          "name": "stdout",
          "text": [
            "🤖 CPU Information:\n",
            "🤖 CPU Model: Intel(R) Xeon(R) CPU @ 2.00GHz\n",
            "\n",
            "🤖 RAM Information:\n",
            "🤖 RAM Total: 12978 MiB\n",
            "🤖 RAM Used: 1998 MiB\n",
            "🤖 RAM Available: 10646 MiB\n",
            "\n",
            "🤖 GPU Information:\n",
            "🤖 GPU 1:\n",
            "🤖 GPU Model: Tesla T4\n",
            "\n",
            "🤖 Memory Information:\n",
            "🤖 GPU 1 Memory Used: 641 MiB\n",
            "🤖 Total GPU Memory Available: 15360 MiB\n"
          ]
        }
      ]
    },
    {
      "cell_type": "markdown",
      "metadata": {
        "id": "RlpUm6MadcGt"
      },
      "source": [
        "Еще можно посмотреть на нашу модель в целом: сколько в ней слоев, сколько параметров у каждого слоя с помощью команды model.summary()"
      ]
    },
    {
      "cell_type": "code",
      "metadata": {
        "colab": {
          "base_uri": "https://localhost:8080/",
          "height": 305
        },
        "id": "-eD6-YNjL1Xb",
        "outputId": "51b0ac35-9285-4025-8954-de8b97e85d84"
      },
      "source": [
        "model.summary()"
      ],
      "execution_count": 13,
      "outputs": [
        {
          "output_type": "display_data",
          "data": {
            "text/plain": [
              "\u001b[1mModel: \"sequential\"\u001b[0m\n"
            ],
            "text/html": [
              "<pre style=\"white-space:pre;overflow-x:auto;line-height:normal;font-family:Menlo,'DejaVu Sans Mono',consolas,'Courier New',monospace\"><span style=\"font-weight: bold\">Model: \"sequential\"</span>\n",
              "</pre>\n"
            ]
          },
          "metadata": {}
        },
        {
          "output_type": "display_data",
          "data": {
            "text/plain": [
              "┏━━━━━━━━━━━━━━━━━━━━━━━━━━━━━━━━━━━━━━┳━━━━━━━━━━━━━━━━━━━━━━━━━━━━━┳━━━━━━━━━━━━━━━━━┓\n",
              "┃\u001b[1m \u001b[0m\u001b[1mLayer (type)                        \u001b[0m\u001b[1m \u001b[0m┃\u001b[1m \u001b[0m\u001b[1mOutput Shape               \u001b[0m\u001b[1m \u001b[0m┃\u001b[1m \u001b[0m\u001b[1m        Param #\u001b[0m\u001b[1m \u001b[0m┃\n",
              "┡━━━━━━━━━━━━━━━━━━━━━━━━━━━━━━━━━━━━━━╇━━━━━━━━━━━━━━━━━━━━━━━━━━━━━╇━━━━━━━━━━━━━━━━━┩\n",
              "│ flatten (\u001b[38;5;33mFlatten\u001b[0m)                    │ (\u001b[38;5;45mNone\u001b[0m, \u001b[38;5;34m784\u001b[0m)                 │               \u001b[38;5;34m0\u001b[0m │\n",
              "├──────────────────────────────────────┼─────────────────────────────┼─────────────────┤\n",
              "│ dense (\u001b[38;5;33mDense\u001b[0m)                        │ (\u001b[38;5;45mNone\u001b[0m, \u001b[38;5;34m16\u001b[0m)                  │          \u001b[38;5;34m12,560\u001b[0m │\n",
              "├──────────────────────────────────────┼─────────────────────────────┼─────────────────┤\n",
              "│ activation (\u001b[38;5;33mActivation\u001b[0m)              │ (\u001b[38;5;45mNone\u001b[0m, \u001b[38;5;34m16\u001b[0m)                  │               \u001b[38;5;34m0\u001b[0m │\n",
              "├──────────────────────────────────────┼─────────────────────────────┼─────────────────┤\n",
              "│ dense_1 (\u001b[38;5;33mDense\u001b[0m)                      │ (\u001b[38;5;45mNone\u001b[0m, \u001b[38;5;34m10\u001b[0m)                  │             \u001b[38;5;34m170\u001b[0m │\n",
              "├──────────────────────────────────────┼─────────────────────────────┼─────────────────┤\n",
              "│ activation_1 (\u001b[38;5;33mActivation\u001b[0m)            │ (\u001b[38;5;45mNone\u001b[0m, \u001b[38;5;34m10\u001b[0m)                  │               \u001b[38;5;34m0\u001b[0m │\n",
              "└──────────────────────────────────────┴─────────────────────────────┴─────────────────┘\n"
            ],
            "text/html": [
              "<pre style=\"white-space:pre;overflow-x:auto;line-height:normal;font-family:Menlo,'DejaVu Sans Mono',consolas,'Courier New',monospace\">┏━━━━━━━━━━━━━━━━━━━━━━━━━━━━━━━━━━━━━━┳━━━━━━━━━━━━━━━━━━━━━━━━━━━━━┳━━━━━━━━━━━━━━━━━┓\n",
              "┃<span style=\"font-weight: bold\"> Layer (type)                         </span>┃<span style=\"font-weight: bold\"> Output Shape                </span>┃<span style=\"font-weight: bold\">         Param # </span>┃\n",
              "┡━━━━━━━━━━━━━━━━━━━━━━━━━━━━━━━━━━━━━━╇━━━━━━━━━━━━━━━━━━━━━━━━━━━━━╇━━━━━━━━━━━━━━━━━┩\n",
              "│ flatten (<span style=\"color: #0087ff; text-decoration-color: #0087ff\">Flatten</span>)                    │ (<span style=\"color: #00d7ff; text-decoration-color: #00d7ff\">None</span>, <span style=\"color: #00af00; text-decoration-color: #00af00\">784</span>)                 │               <span style=\"color: #00af00; text-decoration-color: #00af00\">0</span> │\n",
              "├──────────────────────────────────────┼─────────────────────────────┼─────────────────┤\n",
              "│ dense (<span style=\"color: #0087ff; text-decoration-color: #0087ff\">Dense</span>)                        │ (<span style=\"color: #00d7ff; text-decoration-color: #00d7ff\">None</span>, <span style=\"color: #00af00; text-decoration-color: #00af00\">16</span>)                  │          <span style=\"color: #00af00; text-decoration-color: #00af00\">12,560</span> │\n",
              "├──────────────────────────────────────┼─────────────────────────────┼─────────────────┤\n",
              "│ activation (<span style=\"color: #0087ff; text-decoration-color: #0087ff\">Activation</span>)              │ (<span style=\"color: #00d7ff; text-decoration-color: #00d7ff\">None</span>, <span style=\"color: #00af00; text-decoration-color: #00af00\">16</span>)                  │               <span style=\"color: #00af00; text-decoration-color: #00af00\">0</span> │\n",
              "├──────────────────────────────────────┼─────────────────────────────┼─────────────────┤\n",
              "│ dense_1 (<span style=\"color: #0087ff; text-decoration-color: #0087ff\">Dense</span>)                      │ (<span style=\"color: #00d7ff; text-decoration-color: #00d7ff\">None</span>, <span style=\"color: #00af00; text-decoration-color: #00af00\">10</span>)                  │             <span style=\"color: #00af00; text-decoration-color: #00af00\">170</span> │\n",
              "├──────────────────────────────────────┼─────────────────────────────┼─────────────────┤\n",
              "│ activation_1 (<span style=\"color: #0087ff; text-decoration-color: #0087ff\">Activation</span>)            │ (<span style=\"color: #00d7ff; text-decoration-color: #00d7ff\">None</span>, <span style=\"color: #00af00; text-decoration-color: #00af00\">10</span>)                  │               <span style=\"color: #00af00; text-decoration-color: #00af00\">0</span> │\n",
              "└──────────────────────────────────────┴─────────────────────────────┴─────────────────┘\n",
              "</pre>\n"
            ]
          },
          "metadata": {}
        },
        {
          "output_type": "display_data",
          "data": {
            "text/plain": [
              "\u001b[1m Total params: \u001b[0m\u001b[38;5;34m38,192\u001b[0m (149.19 KB)\n"
            ],
            "text/html": [
              "<pre style=\"white-space:pre;overflow-x:auto;line-height:normal;font-family:Menlo,'DejaVu Sans Mono',consolas,'Courier New',monospace\"><span style=\"font-weight: bold\"> Total params: </span><span style=\"color: #00af00; text-decoration-color: #00af00\">38,192</span> (149.19 KB)\n",
              "</pre>\n"
            ]
          },
          "metadata": {}
        },
        {
          "output_type": "display_data",
          "data": {
            "text/plain": [
              "\u001b[1m Trainable params: \u001b[0m\u001b[38;5;34m12,730\u001b[0m (49.73 KB)\n"
            ],
            "text/html": [
              "<pre style=\"white-space:pre;overflow-x:auto;line-height:normal;font-family:Menlo,'DejaVu Sans Mono',consolas,'Courier New',monospace\"><span style=\"font-weight: bold\"> Trainable params: </span><span style=\"color: #00af00; text-decoration-color: #00af00\">12,730</span> (49.73 KB)\n",
              "</pre>\n"
            ]
          },
          "metadata": {}
        },
        {
          "output_type": "display_data",
          "data": {
            "text/plain": [
              "\u001b[1m Non-trainable params: \u001b[0m\u001b[38;5;34m0\u001b[0m (0.00 B)\n"
            ],
            "text/html": [
              "<pre style=\"white-space:pre;overflow-x:auto;line-height:normal;font-family:Menlo,'DejaVu Sans Mono',consolas,'Courier New',monospace\"><span style=\"font-weight: bold\"> Non-trainable params: </span><span style=\"color: #00af00; text-decoration-color: #00af00\">0</span> (0.00 B)\n",
              "</pre>\n"
            ]
          },
          "metadata": {}
        },
        {
          "output_type": "display_data",
          "data": {
            "text/plain": [
              "\u001b[1m Optimizer params: \u001b[0m\u001b[38;5;34m25,462\u001b[0m (99.46 KB)\n"
            ],
            "text/html": [
              "<pre style=\"white-space:pre;overflow-x:auto;line-height:normal;font-family:Menlo,'DejaVu Sans Mono',consolas,'Courier New',monospace\"><span style=\"font-weight: bold\"> Optimizer params: </span><span style=\"color: #00af00; text-decoration-color: #00af00\">25,462</span> (99.46 KB)\n",
              "</pre>\n"
            ]
          },
          "metadata": {}
        }
      ]
    },
    {
      "cell_type": "markdown",
      "metadata": {
        "id": "uQ92EA7pdG8B"
      },
      "source": [
        "## 🧐 5. Валидация качества модели на тестовых данных\n",
        "\n",
        "Выводятся значение функции потерь и точность."
      ]
    },
    {
      "cell_type": "code",
      "source": [
        "test_loss, test_accuracy = model.evaluate(X_test, y_test)\n",
        "trainable_params = tf.keras.Model.count_params(model)"
      ],
      "metadata": {
        "id": "uPveYLVfnXkj",
        "outputId": "d10f1f25-1f59-4470-b12b-074ed0d988c9",
        "colab": {
          "base_uri": "https://localhost:8080/"
        }
      },
      "execution_count": 14,
      "outputs": [
        {
          "output_type": "stream",
          "name": "stdout",
          "text": [
            "\u001b[1m313/313\u001b[0m \u001b[32m━━━━━━━━━━━━━━━━━━━━\u001b[0m\u001b[37m\u001b[0m \u001b[1m1s\u001b[0m 3ms/step - accuracy: 0.9358 - loss: 0.2279\n"
          ]
        }
      ]
    },
    {
      "cell_type": "code",
      "source": [
        "print(f\"🤖 Количество обучаемых параметров в модели {trainable_params}\")\n",
        "print(f\"🤖 Точность предсказаний на тестовой выборке {test_accuracy:.3f}\")\n",
        "print(f\"🤖 Значение функции потерь на тестовой выборке {test_loss:.3f}\")"
      ],
      "metadata": {
        "colab": {
          "base_uri": "https://localhost:8080/"
        },
        "id": "gOBIIJPHodyi",
        "outputId": "2d57b5e1-a16a-42e1-cf3e-8aa482ca7253"
      },
      "execution_count": 15,
      "outputs": [
        {
          "output_type": "stream",
          "name": "stdout",
          "text": [
            "🤖 Количество обучаемых параметров в модели 12730\n",
            "🤖 Точность предсказаний на тестовой выборке 0.943\n",
            "🤖 Значение функции потерь на тестовой выборке 0.200\n"
          ]
        }
      ]
    },
    {
      "cell_type": "code",
      "metadata": {
        "colab": {
          "base_uri": "https://localhost:8080/",
          "height": 1000
        },
        "id": "1a1K3_GlSsaq",
        "outputId": "5c9a747a-4715-4228-b00e-8d27300b771d"
      },
      "source": [
        "show_examples(X_test, y_test, model(X_test))"
      ],
      "execution_count": 16,
      "outputs": [
        {
          "output_type": "display_data",
          "data": {
            "text/plain": [
              "<Figure size 1500x1500 with 25 Axes>"
            ],
            "image/png": "[encoded data removed]"
          },
          "metadata": {}
        }
      ]
    },
    {
      "cell_type": "markdown",
      "source": [
        "## 💎 УПРАЖНЕНИЕ\n",
        "\n",
        "Попробуйте изменить любые параметры ниже, чтобы качество предсказаний на тестовой выборке стало не менее 97%. Победит тот, кто сделает это с наименьшим числом параметров модели."
      ],
      "metadata": {
        "id": "u0Mr-oSIpQ6j"
      }
    },
    {
      "cell_type": "code",
      "source": [
        "# Попробуйте изменить параметры ниже на свой вкус\n",
        "\n",
        "ЧИСЛО_НЕЙРОНОВ_В_ПЕРВОМ_СЛОЕ = 16\n",
        "ФУНКЦИЯ_АКТИВАЦИИ = \"relu\" # \"selu\", \"elu\", \"softmax\", \"sigmoid\", \"relu\", ...\n",
        "ОПТИМИЗАТОР = \"adam\" # \"adam\", \"nadam\", \"rmsprop\", \"sgd\"...\n",
        "ЧИСЛО_ЭПОХ = 5\n",
        "РАЗМЕР_БАТЧА = 128\n",
        "\n",
        "model = Sequential()\n",
        "\n",
        "model.add(Flatten())\n",
        "model.add(Dense(units=ЧИСЛО_НЕЙРОНОВ_В_ПЕРВОМ_СЛОЕ, activation=ФУНКЦИЯ_АКТИВАЦИИ))\n",
        "model.add(Dense(units=10, activation=\"softmax\"))\n",
        "\n",
        "model.compile(loss='categorical_crossentropy',\n",
        "              optimizer=ОПТИМИЗАТОР,\n",
        "              metrics=['accuracy'])\n",
        "\n",
        "model.fit(X_train, y_train, epochs=ЧИСЛО_ЭПОХ, batch_size=РАЗМЕР_БАТЧА)\n",
        "\n",
        "test_loss, test_accuracy = model.evaluate(X_test, y_test)\n",
        "trainable_params = int(tf.keras.Model.count_params(model))\n",
        "\n",
        "print(f\"🤖 Количество обучаемых параметров в модели {trainable_params}\")\n",
        "print(f\"🤖 Точность предсказаний на тестовой выборке {test_accuracy:.3f}\")\n",
        "print(f\"🤖 Значение функции потерь на тестовой выборке {test_loss:.3f}\")"
      ],
      "metadata": {
        "colab": {
          "base_uri": "https://localhost:8080/"
        },
        "id": "E10HdJ8mpUtK",
        "outputId": "6d784844-34da-4175-ded3-643f3e721156"
      },
      "execution_count": 17,
      "outputs": [
        {
          "output_type": "stream",
          "name": "stdout",
          "text": [
            "Epoch 1/5\n",
            "\u001b[1m469/469\u001b[0m \u001b[32m━━━━━━━━━━━━━━━━━━━━\u001b[0m\u001b[37m\u001b[0m \u001b[1m2s\u001b[0m 3ms/step - accuracy: 0.6939 - loss: 1.0533\n",
            "Epoch 2/5\n",
            "\u001b[1m469/469\u001b[0m \u001b[32m━━━━━━━━━━━━━━━━━━━━\u001b[0m\u001b[37m\u001b[0m \u001b[1m1s\u001b[0m 2ms/step - accuracy: 0.9122 - loss: 0.3138\n",
            "Epoch 3/5\n",
            "\u001b[1m469/469\u001b[0m \u001b[32m━━━━━━━━━━━━━━━━━━━━\u001b[0m\u001b[37m\u001b[0m \u001b[1m1s\u001b[0m 2ms/step - accuracy: 0.9243 - loss: 0.2652\n",
            "Epoch 4/5\n",
            "\u001b[1m469/469\u001b[0m \u001b[32m━━━━━━━━━━━━━━━━━━━━\u001b[0m\u001b[37m\u001b[0m \u001b[1m1s\u001b[0m 2ms/step - accuracy: 0.9329 - loss: 0.2408\n",
            "Epoch 5/5\n",
            "\u001b[1m469/469\u001b[0m \u001b[32m━━━━━━━━━━━━━━━━━━━━\u001b[0m\u001b[37m\u001b[0m \u001b[1m1s\u001b[0m 2ms/step - accuracy: 0.9372 - loss: 0.2205\n",
            "\u001b[1m313/313\u001b[0m \u001b[32m━━━━━━━━━━━━━━━━━━━━\u001b[0m\u001b[37m\u001b[0m \u001b[1m1s\u001b[0m 3ms/step - accuracy: 0.9263 - loss: 0.2518\n",
            "🤖 Количество обучаемых параметров в модели 12730\n",
            "🤖 Точность предсказаний на тестовой выборке 0.936\n",
            "🤖 Значение функции потерь на тестовой выборке 0.224\n"
          ]
        }
      ]
    },
    {
      "cell_type": "markdown",
      "metadata": {
        "id": "6CFF3-RLhGH4"
      },
      "source": [
        "## 📈 ЭКСТРА: Улучшение модели (попробуем добавить сверточный слой)\n",
        "\n",
        "Добавим явно число каналов в наш датасет - это важно для сверточных слоев.\n",
        "т.е. делается преобразование (60000, 28, 28) -> (60000, 28, 28, 1). Это ничего не изменяет в данных."
      ]
    },
    {
      "cell_type": "code",
      "metadata": {
        "colab": {
          "base_uri": "https://localhost:8080/"
        },
        "id": "J6gkFZuMhL_f",
        "outputId": "81aa1f10-5835-4b0e-8238-5245023e9b68"
      },
      "source": [
        "X_train, X_test = X_train.reshape((60000, 28, 28, 1)), X_test.reshape((10000, 28, 28, 1))\n",
        "input_size = X_train[0].shape\n",
        "print(f\"🤖 Теперь размер первого изображения {input_size}\")\n",
        "print(f\"🤖 Ширина {input_size[0]}, Длина {input_size[1]}, Число каналов (цветов) {input_size[2]}\")"
      ],
      "execution_count": 18,
      "outputs": [
        {
          "output_type": "stream",
          "name": "stdout",
          "text": [
            "🤖 Теперь размер первого изображения (28, 28, 1)\n",
            "🤖 Ширина 28, Длина 28, Число каналов (цветов) 1\n"
          ]
        }
      ]
    },
    {
      "cell_type": "markdown",
      "metadata": {
        "id": "JB8OqlSHhQYd"
      },
      "source": [
        "Мы используем новый тип преобразования в слое - сверточный Conv2D"
      ]
    },
    {
      "cell_type": "code",
      "metadata": {
        "id": "JZyg7D08L1Xg"
      },
      "source": [
        "from keras.layers import Conv2D"
      ],
      "execution_count": 19,
      "outputs": []
    },
    {
      "cell_type": "markdown",
      "metadata": {
        "id": "0jWP1X9Vh76x"
      },
      "source": [
        "Создание модели. Sequential здесь означает последовательный тип модели, в который мы добавляем слои друг за другом"
      ]
    },
    {
      "cell_type": "markdown",
      "metadata": {
        "id": "XqXj7PlliB23"
      },
      "source": [
        "Здесь мы используем сверточный слой, в котором обучаются 32 фильтра размером 3x3 для поиска конкретных геометрических (настраиваемых в процессе обучения) паттернов на входном изображении.\n"
      ]
    },
    {
      "cell_type": "code",
      "metadata": {
        "id": "8v4Fbs5Shr79"
      },
      "source": [
        "conv_model = Sequential()\n",
        "\n",
        "conv_model.add(Conv2D(32, (3, 3), activation=\"relu\"))\n",
        "conv_model.add(Conv2D(64, (3, 3), activation=\"relu\"))\n",
        "conv_model.add(Flatten())\n",
        "conv_model.add(Dense(10, activation='softmax'))"
      ],
      "execution_count": 20,
      "outputs": []
    },
    {
      "cell_type": "markdown",
      "metadata": {
        "id": "BEfkQmx8iRUH"
      },
      "source": [
        "После описания архитектуры необходимо скомпилировать модель, указав минимизируемую функцию потерь,\n",
        "оптимизатор и попросив модель выводить точность работы на тестовой выборке в процессе обучения\n"
      ]
    },
    {
      "cell_type": "code",
      "metadata": {
        "id": "QzkuwxBuiOzS"
      },
      "source": [
        "conv_model.compile(loss='categorical_crossentropy',\n",
        "              optimizer='adam',\n",
        "              metrics=['accuracy'])"
      ],
      "execution_count": 21,
      "outputs": []
    },
    {
      "cell_type": "markdown",
      "metadata": {
        "id": "S4mM0LJphwui"
      },
      "source": [
        "Тренировка с указанием данных, числа эпох и размера подвыборки"
      ]
    },
    {
      "cell_type": "code",
      "metadata": {
        "colab": {
          "base_uri": "https://localhost:8080/"
        },
        "id": "n3f0J-COhuc6",
        "outputId": "d7b6a439-ac9a-4d5f-b7ed-dcc51632945a"
      },
      "source": [
        "conv_model.fit(X_train, y_train, epochs=5, batch_size=128)"
      ],
      "execution_count": 22,
      "outputs": [
        {
          "output_type": "stream",
          "name": "stdout",
          "text": [
            "Epoch 1/5\n",
            "\u001b[1m469/469\u001b[0m \u001b[32m━━━━━━━━━━━━━━━━━━━━\u001b[0m\u001b[37m\u001b[0m \u001b[1m8s\u001b[0m 8ms/step - accuracy: 0.8940 - loss: 0.3606\n",
            "Epoch 2/5\n",
            "\u001b[1m469/469\u001b[0m \u001b[32m━━━━━━━━━━━━━━━━━━━━\u001b[0m\u001b[37m\u001b[0m \u001b[1m3s\u001b[0m 6ms/step - accuracy: 0.9834 - loss: 0.0552\n",
            "Epoch 3/5\n",
            "\u001b[1m469/469\u001b[0m \u001b[32m━━━━━━━━━━━━━━━━━━━━\u001b[0m\u001b[37m\u001b[0m \u001b[1m5s\u001b[0m 6ms/step - accuracy: 0.9898 - loss: 0.0353\n",
            "Epoch 4/5\n",
            "\u001b[1m469/469\u001b[0m \u001b[32m━━━━━━━━━━━━━━━━━━━━\u001b[0m\u001b[37m\u001b[0m \u001b[1m5s\u001b[0m 6ms/step - accuracy: 0.9922 - loss: 0.0247\n",
            "Epoch 5/5\n",
            "\u001b[1m469/469\u001b[0m \u001b[32m━━━━━━━━━━━━━━━━━━━━\u001b[0m\u001b[37m\u001b[0m \u001b[1m5s\u001b[0m 6ms/step - accuracy: 0.9948 - loss: 0.0165\n"
          ]
        },
        {
          "output_type": "execute_result",
          "data": {
            "text/plain": [
              "<keras.src.callbacks.history.History at 0x7b6ed03eb1c0>"
            ]
          },
          "metadata": {},
          "execution_count": 22
        }
      ]
    },
    {
      "cell_type": "code",
      "metadata": {
        "colab": {
          "base_uri": "https://localhost:8080/",
          "height": 273
        },
        "id": "Bhfoz8W2L1Xi",
        "outputId": "22bb53f6-09a4-4701-d28c-c12eac86e2bf"
      },
      "source": [
        "conv_model.summary()"
      ],
      "execution_count": 23,
      "outputs": [
        {
          "output_type": "display_data",
          "data": {
            "text/plain": [
              "\u001b[1mModel: \"sequential_2\"\u001b[0m\n"
            ],
            "text/html": [
              "<pre style=\"white-space:pre;overflow-x:auto;line-height:normal;font-family:Menlo,'DejaVu Sans Mono',consolas,'Courier New',monospace\"><span style=\"font-weight: bold\">Model: \"sequential_2\"</span>\n",
              "</pre>\n"
            ]
          },
          "metadata": {}
        },
        {
          "output_type": "display_data",
          "data": {
            "text/plain": [
              "┏━━━━━━━━━━━━━━━━━━━━━━━━━━━━━━━━━━━━━━┳━━━━━━━━━━━━━━━━━━━━━━━━━━━━━┳━━━━━━━━━━━━━━━━━┓\n",
              "┃\u001b[1m \u001b[0m\u001b[1mLayer (type)                        \u001b[0m\u001b[1m \u001b[0m┃\u001b[1m \u001b[0m\u001b[1mOutput Shape               \u001b[0m\u001b[1m \u001b[0m┃\u001b[1m \u001b[0m\u001b[1m        Param #\u001b[0m\u001b[1m \u001b[0m┃\n",
              "┡━━━━━━━━━━━━━━━━━━━━━━━━━━━━━━━━━━━━━━╇━━━━━━━━━━━━━━━━━━━━━━━━━━━━━╇━━━━━━━━━━━━━━━━━┩\n",
              "│ conv2d (\u001b[38;5;33mConv2D\u001b[0m)                      │ (\u001b[38;5;45mNone\u001b[0m, \u001b[38;5;34m26\u001b[0m, \u001b[38;5;34m26\u001b[0m, \u001b[38;5;34m32\u001b[0m)          │             \u001b[38;5;34m320\u001b[0m │\n",
              "├──────────────────────────────────────┼─────────────────────────────┼─────────────────┤\n",
              "│ conv2d_1 (\u001b[38;5;33mConv2D\u001b[0m)                    │ (\u001b[38;5;45mNone\u001b[0m, \u001b[38;5;34m24\u001b[0m, \u001b[38;5;34m24\u001b[0m, \u001b[38;5;34m64\u001b[0m)          │          \u001b[38;5;34m18,496\u001b[0m │\n",
              "├──────────────────────────────────────┼─────────────────────────────┼─────────────────┤\n",
              "│ flatten_2 (\u001b[38;5;33mFlatten\u001b[0m)                  │ (\u001b[38;5;45mNone\u001b[0m, \u001b[38;5;34m36864\u001b[0m)               │               \u001b[38;5;34m0\u001b[0m │\n",
              "├──────────────────────────────────────┼─────────────────────────────┼─────────────────┤\n",
              "│ dense_4 (\u001b[38;5;33mDense\u001b[0m)                      │ (\u001b[38;5;45mNone\u001b[0m, \u001b[38;5;34m10\u001b[0m)                  │         \u001b[38;5;34m368,650\u001b[0m │\n",
              "└──────────────────────────────────────┴─────────────────────────────┴─────────────────┘\n"
            ],
            "text/html": [
              "<pre style=\"white-space:pre;overflow-x:auto;line-height:normal;font-family:Menlo,'DejaVu Sans Mono',consolas,'Courier New',monospace\">┏━━━━━━━━━━━━━━━━━━━━━━━━━━━━━━━━━━━━━━┳━━━━━━━━━━━━━━━━━━━━━━━━━━━━━┳━━━━━━━━━━━━━━━━━┓\n",
              "┃<span style=\"font-weight: bold\"> Layer (type)                         </span>┃<span style=\"font-weight: bold\"> Output Shape                </span>┃<span style=\"font-weight: bold\">         Param # </span>┃\n",
              "┡━━━━━━━━━━━━━━━━━━━━━━━━━━━━━━━━━━━━━━╇━━━━━━━━━━━━━━━━━━━━━━━━━━━━━╇━━━━━━━━━━━━━━━━━┩\n",
              "│ conv2d (<span style=\"color: #0087ff; text-decoration-color: #0087ff\">Conv2D</span>)                      │ (<span style=\"color: #00d7ff; text-decoration-color: #00d7ff\">None</span>, <span style=\"color: #00af00; text-decoration-color: #00af00\">26</span>, <span style=\"color: #00af00; text-decoration-color: #00af00\">26</span>, <span style=\"color: #00af00; text-decoration-color: #00af00\">32</span>)          │             <span style=\"color: #00af00; text-decoration-color: #00af00\">320</span> │\n",
              "├──────────────────────────────────────┼─────────────────────────────┼─────────────────┤\n",
              "│ conv2d_1 (<span style=\"color: #0087ff; text-decoration-color: #0087ff\">Conv2D</span>)                    │ (<span style=\"color: #00d7ff; text-decoration-color: #00d7ff\">None</span>, <span style=\"color: #00af00; text-decoration-color: #00af00\">24</span>, <span style=\"color: #00af00; text-decoration-color: #00af00\">24</span>, <span style=\"color: #00af00; text-decoration-color: #00af00\">64</span>)          │          <span style=\"color: #00af00; text-decoration-color: #00af00\">18,496</span> │\n",
              "├──────────────────────────────────────┼─────────────────────────────┼─────────────────┤\n",
              "│ flatten_2 (<span style=\"color: #0087ff; text-decoration-color: #0087ff\">Flatten</span>)                  │ (<span style=\"color: #00d7ff; text-decoration-color: #00d7ff\">None</span>, <span style=\"color: #00af00; text-decoration-color: #00af00\">36864</span>)               │               <span style=\"color: #00af00; text-decoration-color: #00af00\">0</span> │\n",
              "├──────────────────────────────────────┼─────────────────────────────┼─────────────────┤\n",
              "│ dense_4 (<span style=\"color: #0087ff; text-decoration-color: #0087ff\">Dense</span>)                      │ (<span style=\"color: #00d7ff; text-decoration-color: #00d7ff\">None</span>, <span style=\"color: #00af00; text-decoration-color: #00af00\">10</span>)                  │         <span style=\"color: #00af00; text-decoration-color: #00af00\">368,650</span> │\n",
              "└──────────────────────────────────────┴─────────────────────────────┴─────────────────┘\n",
              "</pre>\n"
            ]
          },
          "metadata": {}
        },
        {
          "output_type": "display_data",
          "data": {
            "text/plain": [
              "\u001b[1m Total params: \u001b[0m\u001b[38;5;34m1,162,400\u001b[0m (4.43 MB)\n"
            ],
            "text/html": [
              "<pre style=\"white-space:pre;overflow-x:auto;line-height:normal;font-family:Menlo,'DejaVu Sans Mono',consolas,'Courier New',monospace\"><span style=\"font-weight: bold\"> Total params: </span><span style=\"color: #00af00; text-decoration-color: #00af00\">1,162,400</span> (4.43 MB)\n",
              "</pre>\n"
            ]
          },
          "metadata": {}
        },
        {
          "output_type": "display_data",
          "data": {
            "text/plain": [
              "\u001b[1m Trainable params: \u001b[0m\u001b[38;5;34m387,466\u001b[0m (1.48 MB)\n"
            ],
            "text/html": [
              "<pre style=\"white-space:pre;overflow-x:auto;line-height:normal;font-family:Menlo,'DejaVu Sans Mono',consolas,'Courier New',monospace\"><span style=\"font-weight: bold\"> Trainable params: </span><span style=\"color: #00af00; text-decoration-color: #00af00\">387,466</span> (1.48 MB)\n",
              "</pre>\n"
            ]
          },
          "metadata": {}
        },
        {
          "output_type": "display_data",
          "data": {
            "text/plain": [
              "\u001b[1m Non-trainable params: \u001b[0m\u001b[38;5;34m0\u001b[0m (0.00 B)\n"
            ],
            "text/html": [
              "<pre style=\"white-space:pre;overflow-x:auto;line-height:normal;font-family:Menlo,'DejaVu Sans Mono',consolas,'Courier New',monospace\"><span style=\"font-weight: bold\"> Non-trainable params: </span><span style=\"color: #00af00; text-decoration-color: #00af00\">0</span> (0.00 B)\n",
              "</pre>\n"
            ]
          },
          "metadata": {}
        },
        {
          "output_type": "display_data",
          "data": {
            "text/plain": [
              "\u001b[1m Optimizer params: \u001b[0m\u001b[38;5;34m774,934\u001b[0m (2.96 MB)\n"
            ],
            "text/html": [
              "<pre style=\"white-space:pre;overflow-x:auto;line-height:normal;font-family:Menlo,'DejaVu Sans Mono',consolas,'Courier New',monospace\"><span style=\"font-weight: bold\"> Optimizer params: </span><span style=\"color: #00af00; text-decoration-color: #00af00\">774,934</span> (2.96 MB)\n",
              "</pre>\n"
            ]
          },
          "metadata": {}
        }
      ]
    },
    {
      "cell_type": "markdown",
      "metadata": {
        "id": "NzMjjDbzil3b"
      },
      "source": [
        "Проверим качество работы модели на тестовых данных. Выводятся значение функции потерь и точность."
      ]
    },
    {
      "cell_type": "code",
      "metadata": {
        "colab": {
          "base_uri": "https://localhost:8080/"
        },
        "id": "M5AnjO2JL1Xj",
        "outputId": "1aa1fbd9-2c6b-44df-c38e-2b0a9bda033d"
      },
      "source": [
        "test_loss, test_accuracy = conv_model.evaluate(X_test, y_test)\n",
        "trainable_params = int(tf.keras.Model.count_params(conv_model))"
      ],
      "execution_count": 28,
      "outputs": [
        {
          "output_type": "stream",
          "name": "stdout",
          "text": [
            "\u001b[1m313/313\u001b[0m \u001b[32m━━━━━━━━━━━━━━━━━━━━\u001b[0m\u001b[37m\u001b[0m \u001b[1m1s\u001b[0m 2ms/step - accuracy: 0.9837 - loss: 0.0569\n"
          ]
        }
      ]
    },
    {
      "cell_type": "code",
      "source": [
        "print(f\"🤖 Количество обучаемых параметров в модели {trainable_params}\")\n",
        "print(f\"🤖 Точность предсказаний на тестовой выборке {test_accuracy:.3f}\")\n",
        "print(f\"🤖 Значение функции потерь на тестовой выборке {test_loss:.3f}\")"
      ],
      "metadata": {
        "colab": {
          "base_uri": "https://localhost:8080/"
        },
        "id": "Yw1WoqT7tXrJ",
        "outputId": "ba89200c-ba86-4846-a511-5caeac199922"
      },
      "execution_count": 29,
      "outputs": [
        {
          "output_type": "stream",
          "name": "stdout",
          "text": [
            "🤖 Количество обучаемых параметров в модели 387466\n",
            "🤖 Точность предсказаний на тестовой выборке 0.987\n",
            "🤖 Значение функции потерь на тестовой выборке 0.043\n"
          ]
        }
      ]
    },
    {
      "cell_type": "markdown",
      "metadata": {
        "id": "Adw7q_lPL1Xl"
      },
      "source": [
        "## 🤕 ЭКСТРА: Сверточные слои, dropout\n",
        "\n",
        "Генерируются и обучаются несколько фильтров небольших размеров так, чтобы распознавать какие то характерные сочетания пикселей (паттерны). Ниже на картинке изображение 5x5 пикселей, фильтр имеет размеры 3x3. При этом на выходе такой операции имеем картинку такого же размера, в каждый из пикселей которого записан результат свертки (число) данного фильтра с картинкой при нахождении центра фильтра в этом пикселе. Для этого исходную картинку необходимо дополнить по краям. Обычно это делают либо нулями, либо дублируют ближайшие пиксели (padding)\n",
        "\n",
        "![](https://raw.githubusercontent.com/MerkulovDaniil/TensorFlow_and_Keras_crash_course/master/rus/2_Deep%20Learning%20and%20Keras/convol.gif)\n",
        "\n",
        "Чем глубже сверточный слой, тем более сложные паттерны он способен распознавать:\n",
        "\n",
        "![](https://raw.githubusercontent.com/MerkulovDaniil/TensorFlow_and_Keras_crash_course/master/rus/2_Deep%20Learning%20and%20Keras/features.png)\n",
        "\n",
        "Dropout - техника спасения нейросетей от переобучения, при которой в процессе тренировки случайно \"выключаются\" некоторые нейроны из моделей.\n",
        "\n",
        "Альтернативный взгляд - вместо тренировки одной большой сети проходит одновременная тренировка нескольких подсетей меньшего размера, результаты которых потом усредняются (в каком-то смысле, сглаживаются).\n",
        "\n",
        "![](https://github.com/MerkulovDaniil/TensorFlow_and_Keras_crash_course/blob/master/rus/2_Deep%20Learning%20and%20Keras/dropout.gif?raw=true)\n",
        "\n",
        "Давайте попробуем посмотреть, как написать сеть, состоящую из нескольких сверточных слоев, на `keras`"
      ]
    },
    {
      "cell_type": "code",
      "metadata": {
        "colab": {
          "base_uri": "https://localhost:8080/"
        },
        "id": "QmYolMLDL1Xm",
        "outputId": "ee271b31-35c4-4bbb-e029-3e729f39f4e7"
      },
      "source": [
        "from keras.layers import Conv2D, MaxPooling2D, Dropout\n",
        "# Попробуйте изменить параметры ниже на свой вкус\n",
        "\n",
        "ЧИСЛО_ФИЛЬТРОВ_В_ПЕРВОМ_СЛОЕ = 32\n",
        "ЧИСЛО_ФИЛЬТРОВ_ВО_ВТОРОМ_СЛОЕ = 64\n",
        "ВЕРОЯТНОСТЬ_ЗАНУЛЕНИЯ_ДРОПАУТА = 0.1\n",
        "ФУНКЦИЯ_АКТИВАЦИИ = \"relu\" # \"selu\", \"elu\", \"softmax\", \"sigmoid\", \"relu\", ...\n",
        "ОПТИМИЗАТОР = \"adam\" # \"adam\", \"nadam\", \"rmsprop\", \"sgd\"...\n",
        "ЧИСЛО_ЭПОХ = 5\n",
        "РАЗМЕР_БАТЧА = 128\n",
        "\n",
        "model = Sequential()\n",
        "\n",
        "model.add(Conv2D(ЧИСЛО_ФИЛЬТРОВ_В_ПЕРВОМ_СЛОЕ, (3, 3),\n",
        "                 activation=ФУНКЦИЯ_АКТИВАЦИИ))\n",
        "model.add(MaxPooling2D(pool_size=(2, 2)))\n",
        "model.add(Dropout(ВЕРОЯТНОСТЬ_ЗАНУЛЕНИЯ_ДРОПАУТА))\n",
        "model.add(Conv2D(ЧИСЛО_ФИЛЬТРОВ_ВО_ВТОРОМ_СЛОЕ, (3, 3),\n",
        "                 activation=ФУНКЦИЯ_АКТИВАЦИИ))\n",
        "model.add(MaxPooling2D(pool_size=(2, 2)))\n",
        "model.add(Dropout(ВЕРОЯТНОСТЬ_ЗАНУЛЕНИЯ_ДРОПАУТА))\n",
        "model.add(Flatten())\n",
        "model.add(Dense(units=10, activation=\"softmax\"))\n",
        "\n",
        "model.compile(loss='categorical_crossentropy',\n",
        "              optimizer=ОПТИМИЗАТОР,\n",
        "              metrics=['accuracy'])\n",
        "\n",
        "history = model.fit(X_train, y_train, epochs=ЧИСЛО_ЭПОХ, batch_size=РАЗМЕР_БАТЧА)\n",
        "\n",
        "test_loss, test_accuracy = model.evaluate(X_test, y_test)\n",
        "trainable_params = int(tf.keras.Model.count_params(model))\n",
        "\n",
        "print(f\"🤖 Количество обучаемых параметров в модели {trainable_params}\")\n",
        "print(f\"🤖 Точность предсказаний на тестовой выборке {test_accuracy:.3f}\")\n",
        "print(f\"🤖 Значение функции потерь на тестовой выборке {test_loss:.3f}\")"
      ],
      "execution_count": 31,
      "outputs": [
        {
          "output_type": "stream",
          "name": "stdout",
          "text": [
            "Epoch 1/5\n",
            "\u001b[1m469/469\u001b[0m \u001b[32m━━━━━━━━━━━━━━━━━━━━\u001b[0m\u001b[37m\u001b[0m \u001b[1m5s\u001b[0m 6ms/step - accuracy: 0.8202 - loss: 0.6431\n",
            "Epoch 2/5\n",
            "\u001b[1m469/469\u001b[0m \u001b[32m━━━━━━━━━━━━━━━━━━━━\u001b[0m\u001b[37m\u001b[0m \u001b[1m2s\u001b[0m 3ms/step - accuracy: 0.9732 - loss: 0.0919\n",
            "Epoch 3/5\n",
            "\u001b[1m469/469\u001b[0m \u001b[32m━━━━━━━━━━━━━━━━━━━━\u001b[0m\u001b[37m\u001b[0m \u001b[1m2s\u001b[0m 3ms/step - accuracy: 0.9810 - loss: 0.0629\n",
            "Epoch 4/5\n",
            "\u001b[1m469/469\u001b[0m \u001b[32m━━━━━━━━━━━━━━━━━━━━\u001b[0m\u001b[37m\u001b[0m \u001b[1m3s\u001b[0m 3ms/step - accuracy: 0.9844 - loss: 0.0513\n",
            "Epoch 5/5\n",
            "\u001b[1m469/469\u001b[0m \u001b[32m━━━━━━━━━━━━━━━━━━━━\u001b[0m\u001b[37m\u001b[0m \u001b[1m2s\u001b[0m 3ms/step - accuracy: 0.9860 - loss: 0.0473\n",
            "\u001b[1m313/313\u001b[0m \u001b[32m━━━━━━━━━━━━━━━━━━━━\u001b[0m\u001b[37m\u001b[0m \u001b[1m1s\u001b[0m 2ms/step - accuracy: 0.9847 - loss: 0.0428\n",
            "🤖 Количество обучаемых параметров в модели 34826\n",
            "🤖 Точность предсказаний на тестовой выборке 0.988\n",
            "🤖 Значение функции потерь на тестовой выборке 0.035\n"
          ]
        }
      ]
    },
    {
      "cell_type": "code",
      "metadata": {
        "colab": {
          "base_uri": "https://localhost:8080/",
          "height": 453
        },
        "id": "RW1V8_Qtdnf-",
        "outputId": "3676edb1-98dc-4d64-c958-64058bef5e0d"
      },
      "source": [
        "plt.plot(list(range(1, ЧИСЛО_ЭПОХ+1)), history.history['accuracy'])\n",
        "plt.xlabel(\"Эпохи\")\n",
        "plt.ylabel(\"Точность на обучающей выборке\")\n",
        "plt.grid(linestyle=\"--\")\n",
        "plt.show()"
      ],
      "execution_count": 32,
      "outputs": [
        {
          "output_type": "display_data",
          "data": {
            "text/plain": [
              "<Figure size 640x480 with 1 Axes>"
            ],
            "image/png": "[encoded data removed]"
          },
          "metadata": {}
        }
      ]
    },
    {
      "cell_type": "markdown",
      "metadata": {
        "id": "lYEE-A2TL1X5"
      },
      "source": [
        "## 📚 Ссылки\n",
        "\n",
        "* [Ещё практикумы по нейронным сетям](https://colab.research.google.com/github/MerkulovDaniil/sber219/blob/main/notebooks/10_1.ipynb)\n",
        "* [TensorFlow sandbox](https://playground.tensorflow.org)\n",
        "* [Запуск TensorFlow на GPU](http://learningtensorflow.com/lesson10/)\n",
        "* [Визуализация модели](https://www.codesofinterest.com/2017/05/visualizing-keras-models-updated.html)\n",
        "* [Официальная документация](https://keras.io/) - библиотека отлично документирована\n",
        "* [Keras в конкретных примерах](https://github.com/tmheo/keras_exercise) - 25 отличных jupyter notebooks\n",
        "* [Упражнения и примеры в Keras и TensorFlow](https://github.com/leriomaggio/deep-learning-keras-tensorflow)"
      ]
    }
  ]
}